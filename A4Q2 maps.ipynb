{
 "cells": [
  {
   "cell_type": "markdown",
   "id": "787c9103",
   "metadata": {},
   "source": [
    "# wapp to triple all numbersof a given list of integers(using map()funtions)"
   ]
  },
  {
   "cell_type": "code",
   "execution_count": 1,
   "id": "ecef1485",
   "metadata": {},
   "outputs": [
    {
     "name": "stdout",
     "output_type": "stream",
     "text": [
      "The required output is =  [3, 6, 9, 12, 15, 18, 21]\n"
     ]
    }
   ],
   "source": [
    "l = [1,2,3,4,5,6,7]\n",
    "def triple(num):\n",
    "    return (num*3)\n",
    "output = list(map(triple,l))\n",
    "print(\"The required output is = \",output)"
   ]
  },
  {
   "cell_type": "code",
   "execution_count": null,
   "id": "a1e1816e",
   "metadata": {},
   "outputs": [],
   "source": []
  }
 ],
 "metadata": {
  "kernelspec": {
   "display_name": "Python 3 (ipykernel)",
   "language": "python",
   "name": "python3"
  },
  "language_info": {
   "codemirror_mode": {
    "name": "ipython",
    "version": 3
   },
   "file_extension": ".py",
   "mimetype": "text/x-python",
   "name": "python",
   "nbconvert_exporter": "python",
   "pygments_lexer": "ipython3",
   "version": "3.10.0rc2"
  }
 },
 "nbformat": 4,
 "nbformat_minor": 5
}
