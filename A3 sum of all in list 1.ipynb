{
 "cells": [
  {
   "cell_type": "markdown",
   "id": "081f33a2",
   "metadata": {},
   "source": [
    "# python funtion to sum all the numbers in a list"
   ]
  },
  {
   "cell_type": "code",
   "execution_count": 12,
   "id": "ac3c6ba3",
   "metadata": {},
   "outputs": [
    {
     "name": "stdout",
     "output_type": "stream",
     "text": [
      "20\n",
      "###############################THE END################################\n"
     ]
    }
   ],
   "source": [
    "def sum(*args):\n",
    "    sum1=0\n",
    "    for i in args:\n",
    "        sum1 = i + sum1\n",
    "    return sum1\n",
    "print(sum(8,2,3,0,7))\n",
    "print('THE END'.center(70,'#'))"
   ]
  },
  {
   "cell_type": "code",
   "execution_count": null,
   "id": "e2a7c218",
   "metadata": {},
   "outputs": [],
   "source": []
  }
 ],
 "metadata": {
  "kernelspec": {
   "display_name": "Python 3 (ipykernel)",
   "language": "python",
   "name": "python3"
  },
  "language_info": {
   "codemirror_mode": {
    "name": "ipython",
    "version": 3
   },
   "file_extension": ".py",
   "mimetype": "text/x-python",
   "name": "python",
   "nbconvert_exporter": "python",
   "pygments_lexer": "ipython3",
   "version": "3.10.0rc2"
  }
 },
 "nbformat": 4,
 "nbformat_minor": 5
}
