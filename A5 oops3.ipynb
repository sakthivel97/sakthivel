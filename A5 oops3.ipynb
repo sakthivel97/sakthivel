{
 "cells": [
  {
   "cell_type": "markdown",
   "id": "eca1e1a6",
   "metadata": {},
   "source": [
    "# python class to implement power(x,n)"
   ]
  },
  {
   "cell_type": "code",
   "execution_count": 8,
   "id": "82332766",
   "metadata": {},
   "outputs": [
    {
     "name": "stdout",
     "output_type": "stream",
     "text": [
      "100\n"
     ]
    }
   ],
   "source": [
    "class solution(object):\n",
    "    def mypow(self, x, n):\n",
    "        power = abs(n)\n",
    "        res = 1\n",
    "        while power:\n",
    "            if power & 1:\n",
    "                res*=x\n",
    "            x*=x\n",
    "            power>>=1\n",
    "        if n<0:\n",
    "            return 1//res\n",
    "        return res\n",
    "ob1 = solution()\n",
    "print(ob1.mypow(10,2))"
   ]
  },
  {
   "cell_type": "code",
   "execution_count": null,
   "id": "7963bd0c",
   "metadata": {},
   "outputs": [],
   "source": []
  }
 ],
 "metadata": {
  "kernelspec": {
   "display_name": "Python 3 (ipykernel)",
   "language": "python",
   "name": "python3"
  },
  "language_info": {
   "codemirror_mode": {
    "name": "ipython",
    "version": 3
   },
   "file_extension": ".py",
   "mimetype": "text/x-python",
   "name": "python",
   "nbconvert_exporter": "python",
   "pygments_lexer": "ipython3",
   "version": "3.10.0rc2"
  }
 },
 "nbformat": 4,
 "nbformat_minor": 5
}
