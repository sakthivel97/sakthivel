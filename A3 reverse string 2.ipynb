{
 "cells": [
  {
   "cell_type": "markdown",
   "id": "9b10c0ee",
   "metadata": {},
   "source": [
    "# reverse string"
   ]
  },
  {
   "cell_type": "code",
   "execution_count": 2,
   "id": "9c5b7192",
   "metadata": {},
   "outputs": [
    {
     "name": "stdout",
     "output_type": "stream",
     "text": [
      " dcba4321\n",
      "$$$$$$$$$$$$$$$$$$$$$$$$$$$$$$$$$$$$THE END$$$$$$$$$$$$$$$$$$$$$$$$$$$$$$$$$$$$$\n"
     ]
    }
   ],
   "source": [
    "def string_reverse(str1):\n",
    "    \n",
    "    rstr1 = ' '\n",
    "    index = len(str1)\n",
    "    while index > 0:\n",
    "        rstr1 += str1[ index - 1 ]\n",
    "        index = index - 1\n",
    "    return rstr1\n",
    "print(string_reverse('1234abcd'))\n",
    "print('THE END'.center(80,'$'))"
   ]
  },
  {
   "cell_type": "code",
   "execution_count": null,
   "id": "9c7ecbe0",
   "metadata": {},
   "outputs": [],
   "source": []
  }
 ],
 "metadata": {
  "kernelspec": {
   "display_name": "Python 3 (ipykernel)",
   "language": "python",
   "name": "python3"
  },
  "language_info": {
   "codemirror_mode": {
    "name": "ipython",
    "version": 3
   },
   "file_extension": ".py",
   "mimetype": "text/x-python",
   "name": "python",
   "nbconvert_exporter": "python",
   "pygments_lexer": "ipython3",
   "version": "3.10.0rc2"
  }
 },
 "nbformat": 4,
 "nbformat_minor": 5
}
