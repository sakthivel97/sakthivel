{
 "cells": [
  {
   "cell_type": "markdown",
   "id": "b70cfaa4",
   "metadata": {},
   "source": [
    "# square from the given list"
   ]
  },
  {
   "cell_type": "code",
   "execution_count": 1,
   "id": "ddbd1f6b",
   "metadata": {},
   "outputs": [
    {
     "name": "stdout",
     "output_type": "stream",
     "text": [
      "The square of given number is =  [16, 25, 4, 81]\n"
     ]
    }
   ],
   "source": [
    "l = [4,5,2,9]\n",
    "def square(num):\n",
    "    return (num**2)\n",
    "values = list(map(square,l))\n",
    "print('The square of given number is = ',values)"
   ]
  },
  {
   "cell_type": "code",
   "execution_count": null,
   "id": "2f046751",
   "metadata": {},
   "outputs": [],
   "source": []
  }
 ],
 "metadata": {
  "kernelspec": {
   "display_name": "Python 3 (ipykernel)",
   "language": "python",
   "name": "python3"
  },
  "language_info": {
   "codemirror_mode": {
    "name": "ipython",
    "version": 3
   },
   "file_extension": ".py",
   "mimetype": "text/x-python",
   "name": "python",
   "nbconvert_exporter": "python",
   "pygments_lexer": "ipython3",
   "version": "3.10.0rc2"
  }
 },
 "nbformat": 4,
 "nbformat_minor": 5
}
