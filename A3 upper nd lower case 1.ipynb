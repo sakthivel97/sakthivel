{
 "cells": [
  {
   "cell_type": "markdown",
   "id": "8a9a7717",
   "metadata": {},
   "source": [
    "# calculate the number of upper and lower case"
   ]
  },
  {
   "cell_type": "code",
   "execution_count": 1,
   "id": "e687a788",
   "metadata": {},
   "outputs": [
    {
     "name": "stdout",
     "output_type": "stream",
     "text": [
      "Original string :  The quick Brow Fox\n",
      "No.of Upper case characters : 3\n",
      "No.of Lower case characters : 12\n"
     ]
    }
   ],
   "source": [
    "def string_test(s):\n",
    "    d={\"UPPER_CASE\":0, \"LOWER_CASE\":0}\n",
    "    for c in s:\n",
    "        if c.isupper():\n",
    "            d[\"UPPER_CASE\"]+=1\n",
    "        elif c.islower():\n",
    "            d[\"LOWER_CASE\"]+=1\n",
    "        else:\n",
    "            pass\n",
    "    print(\"Original string : \", s)\n",
    "    print(\"No.of Upper case characters :\", d[\"UPPER_CASE\"])\n",
    "    print(\"No.of Lower case characters :\", d[\"LOWER_CASE\"])\n",
    "    \n",
    "string_test('The quick Brow Fox')"
   ]
  },
  {
   "cell_type": "code",
   "execution_count": null,
   "id": "6ddf30d5",
   "metadata": {},
   "outputs": [],
   "source": []
  }
 ],
 "metadata": {
  "kernelspec": {
   "display_name": "Python 3 (ipykernel)",
   "language": "python",
   "name": "python3"
  },
  "language_info": {
   "codemirror_mode": {
    "name": "ipython",
    "version": 3
   },
   "file_extension": ".py",
   "mimetype": "text/x-python",
   "name": "python",
   "nbconvert_exporter": "python",
   "pygments_lexer": "ipython3",
   "version": "3.10.0rc2"
  }
 },
 "nbformat": 4,
 "nbformat_minor": 5
}
